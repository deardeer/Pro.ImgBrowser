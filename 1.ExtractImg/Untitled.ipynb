{
 "cells": [
  {
   "cell_type": "code",
   "execution_count": 4,
   "metadata": {
    "collapsed": true
   },
   "outputs": [],
   "source": [
    "import pandas as pd"
   ]
  },
  {
   "cell_type": "code",
   "execution_count": 5,
   "metadata": {
    "collapsed": true
   },
   "outputs": [],
   "source": [
    "df = pd.read_csv('newpaper/test.jpg.txt')"
   ]
  },
  {
   "cell_type": "code",
   "execution_count": 6,
   "metadata": {
    "collapsed": false
   },
   "outputs": [
    {
     "data": {
      "text/html": [
       "<div>\n",
       "<table border=\"1\" class=\"dataframe\">\n",
       "  <thead>\n",
       "    <tr style=\"text-align: right;\">\n",
       "      <th></th>\n",
       "      <th>area</th>\n",
       "      <th>bound_h</th>\n",
       "      <th>bound_w</th>\n",
       "      <th>c_points</th>\n",
       "      <th>c_type</th>\n",
       "      <th>enclosecircle_r</th>\n",
       "      <th>mean_color</th>\n",
       "      <th>peri</th>\n",
       "    </tr>\n",
       "  </thead>\n",
       "  <tbody>\n",
       "    <tr>\n",
       "      <th>0</th>\n",
       "      <td>845.0</td>\n",
       "      <td>20</td>\n",
       "      <td>52</td>\n",
       "      <td>[1112, 661, 1109, 664, 1109, 668, 1110, 669, 1...</td>\n",
       "      <td>path</td>\n",
       "      <td>26</td>\n",
       "      <td>[140, 139, 146]</td>\n",
       "      <td>151.396968</td>\n",
       "    </tr>\n",
       "    <tr>\n",
       "      <th>1</th>\n",
       "      <td>601.0</td>\n",
       "      <td>23</td>\n",
       "      <td>42</td>\n",
       "      <td>[1063, 661, 1061, 663, 1061, 666, 1060, 667, 1...</td>\n",
       "      <td>path</td>\n",
       "      <td>21</td>\n",
       "      <td>[147, 145, 155]</td>\n",
       "      <td>141.740114</td>\n",
       "    </tr>\n",
       "    <tr>\n",
       "      <th>2</th>\n",
       "      <td>1894.0</td>\n",
       "      <td>20</td>\n",
       "      <td>128</td>\n",
       "      <td>[932, 661, 929, 664, 929, 669, 928, 670, 928, ...</td>\n",
       "      <td>path</td>\n",
       "      <td>63</td>\n",
       "      <td>[137, 136, 145]</td>\n",
       "      <td>374.048770</td>\n",
       "    </tr>\n",
       "    <tr>\n",
       "      <th>3</th>\n",
       "      <td>1113.5</td>\n",
       "      <td>20</td>\n",
       "      <td>83</td>\n",
       "      <td>[850, 661, 849, 662, 849, 663, 848, 664, 848, ...</td>\n",
       "      <td>path</td>\n",
       "      <td>41</td>\n",
       "      <td>[127, 126, 134]</td>\n",
       "      <td>240.208150</td>\n",
       "    </tr>\n",
       "    <tr>\n",
       "      <th>4</th>\n",
       "      <td>1036.0</td>\n",
       "      <td>20</td>\n",
       "      <td>78</td>\n",
       "      <td>[766, 661, 763, 664, 763, 665, 762, 666, 762, ...</td>\n",
       "      <td>path</td>\n",
       "      <td>38</td>\n",
       "      <td>[140, 138, 146]</td>\n",
       "      <td>224.994947</td>\n",
       "    </tr>\n",
       "  </tbody>\n",
       "</table>\n",
       "</div>"
      ],
      "text/plain": [
       "     area  bound_h  bound_w  \\\n",
       "0   845.0       20       52   \n",
       "1   601.0       23       42   \n",
       "2  1894.0       20      128   \n",
       "3  1113.5       20       83   \n",
       "4  1036.0       20       78   \n",
       "\n",
       "                                            c_points c_type  enclosecircle_r  \\\n",
       "0  [1112, 661, 1109, 664, 1109, 668, 1110, 669, 1...   path               26   \n",
       "1  [1063, 661, 1061, 663, 1061, 666, 1060, 667, 1...   path               21   \n",
       "2  [932, 661, 929, 664, 929, 669, 928, 670, 928, ...   path               63   \n",
       "3  [850, 661, 849, 662, 849, 663, 848, 664, 848, ...   path               41   \n",
       "4  [766, 661, 763, 664, 763, 665, 762, 666, 762, ...   path               38   \n",
       "\n",
       "        mean_color        peri  \n",
       "0  [140, 139, 146]  151.396968  \n",
       "1  [147, 145, 155]  141.740114  \n",
       "2  [137, 136, 145]  374.048770  \n",
       "3  [127, 126, 134]  240.208150  \n",
       "4  [140, 138, 146]  224.994947  "
      ]
     },
     "execution_count": 6,
     "metadata": {},
     "output_type": "execute_result"
    }
   ],
   "source": [
    "df.head()"
   ]
  },
  {
   "cell_type": "code",
   "execution_count": 7,
   "metadata": {
    "collapsed": false
   },
   "outputs": [
    {
     "data": {
      "text/plain": [
       "Index(['area', 'bound_h', 'bound_w', 'c_points', 'c_type', 'enclosecircle_r',\n",
       "       'mean_color', 'peri'],\n",
       "      dtype='object')"
      ]
     },
     "execution_count": 7,
     "metadata": {},
     "output_type": "execute_result"
    }
   ],
   "source": [
    "df.columns"
   ]
  },
  {
   "cell_type": "code",
   "execution_count": 13,
   "metadata": {
    "collapsed": false
   },
   "outputs": [],
   "source": [
    "row1 = df.iloc[0]"
   ]
  },
  {
   "cell_type": "code",
   "execution_count": 17,
   "metadata": {
    "collapsed": false
   },
   "outputs": [],
   "source": [
    "obj = row1.to_json()"
   ]
  },
  {
   "cell_type": "code",
   "execution_count": 19,
   "metadata": {
    "collapsed": false
   },
   "outputs": [
    {
     "data": {
      "text/plain": [
       "str"
      ]
     },
     "execution_count": 19,
     "metadata": {},
     "output_type": "execute_result"
    }
   ],
   "source": [
    "type(obj)"
   ]
  },
  {
   "cell_type": "code",
   "execution_count": null,
   "metadata": {
    "collapsed": true
   },
   "outputs": [],
   "source": []
  }
 ],
 "metadata": {
  "kernelspec": {
   "display_name": "Python 3",
   "language": "python",
   "name": "python3"
  },
  "language_info": {
   "codemirror_mode": {
    "name": "ipython",
    "version": 3
   },
   "file_extension": ".py",
   "mimetype": "text/x-python",
   "name": "python",
   "nbconvert_exporter": "python",
   "pygments_lexer": "ipython3",
   "version": "3.5.3"
  }
 },
 "nbformat": 4,
 "nbformat_minor": 0
}
